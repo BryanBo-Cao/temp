{
 "cells": [
  {
   "cell_type": "code",
   "execution_count": 9,
   "metadata": {},
   "outputs": [
    {
     "name": "stdout",
     "output_type": "stream",
     "text": [
      "start\n"
     ]
    }
   ],
   "source": [
    "\"\"\"\n",
    "Author: Bryan Bo Cao\n",
    "Email: boca7588@colorado.edu or bo.cao-1@colorado.edu\n",
    "Github Repo: https://github.com/BryanBo-Cao/neuralnets-deeplearning\n",
    "Reference:\n",
    "    https://github.com/tylersco/deep-neural-networks-art-images\n",
    "    http://www.scipy-lectures.org/advanced/image_processing/\n",
    "\"\"\"\n",
    "import numpy as np\n",
    "from scipy import misc\n",
    "print (\"start\")"
   ]
  },
  {
   "cell_type": "code",
   "execution_count": 4,
   "metadata": {},
   "outputs": [
    {
     "ename": "IndentationError",
     "evalue": "expected an indented block (<ipython-input-4-9a12f0b4b0e1>, line 19)",
     "output_type": "error",
     "traceback": [
      "\u001b[0;36m  File \u001b[0;32m\"<ipython-input-4-9a12f0b4b0e1>\"\u001b[0;36m, line \u001b[0;32m19\u001b[0m\n\u001b[0;31m    def load_metadata(self):\u001b[0m\n\u001b[0m      ^\u001b[0m\n\u001b[0;31mIndentationError\u001b[0m\u001b[0;31m:\u001b[0m expected an indented block\n"
     ]
    }
   ],
   "source": [
    "class ArtData:\n",
    "    def __init__(self):\n",
    "        self.path = path\n",
    "        self.image_folder = '16x16-small'\n",
    "        self.metadata_filename = 'metadata.csv'\n",
    "        \n",
    "        self.train_images = {}\n",
    "        self.alpha_pairs = {\n",
    "            'same': [],\n",
    "            'diff': [],\n",
    "        }\n",
    "        self.beta_pairs = {\n",
    "            'same': [],\n",
    "            'diff': []\n",
    "        }\n",
    "    \n",
    "    def load_images(self):\n",
    "        \n",
    "        \n",
    "    def load_metadata(self):"
   ]
  },
  {
   "cell_type": "code",
   "execution_count": null,
   "metadata": {},
   "outputs": [],
   "source": []
  }
 ],
 "metadata": {
  "kernelspec": {
   "display_name": "Python 3",
   "language": "python",
   "name": "python3"
  }
 },
 "nbformat": 4,
 "nbformat_minor": 2
}

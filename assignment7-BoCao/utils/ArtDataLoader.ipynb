{
 "cells": [
  {
   "cell_type": "code",
   "execution_count": 11,
   "metadata": {},
   "outputs": [
    {
     "name": "stdout",
     "output_type": "stream",
     "text": [
      "libraries imported\n"
     ]
    }
   ],
   "source": [
    "\"\"\"\n",
    "Author: Bryan Bo Cao\n",
    "Email: boca7588@colorado.edu or bo.cao-1@colorado.edu\n",
    "Github Repo: https://github.com/BryanBo-Cao/neuralnets-deeplearning\n",
    "Reference:\n",
    "    https://github.com/tylersco/deep-neural-networks-art-images\n",
    "    http://www.scipy-lectures.org/advanced/image_processing/\n",
    "\"\"\"\n",
    "import numpy as np\n",
    "from scipy import misc\n",
    "print (\"libraries imported\")"
   ]
  },
  {
   "cell_type": "code",
   "execution_count": 12,
   "metadata": {},
   "outputs": [],
   "source": [
    "class ArtData:\n",
    "    def __init__(self):\n",
    "        self.path = path\n",
    "        self.image_folder = '16x16-small'\n",
    "        self.metadata_filename = 'metadata.csv'\n",
    "        \n",
    "        self.train_images = {}\n",
    "        self.alpha_pairs = {\n",
    "            'same': [],\n",
    "            'diff': [],\n",
    "        }\n",
    "        self.beta_pairs = {\n",
    "            'same': [],\n",
    "            'diff': []\n",
    "        }\n",
    "    \n",
    "    def load_images(self):\n",
    "        pass\n",
    "        \n",
    "    def load_metadata(self):\n",
    "        pass"
   ]
  },
  {
   "cell_type": "code",
   "execution_count": null,
   "metadata": {},
   "outputs": [],
   "source": []
  }
 ],
 "metadata": {
  "kernelspec": {
   "display_name": "Python 3",
   "language": "python",
   "name": "python3"
  },
  "language_info": {
   "codemirror_mode": {
    "name": "ipython",
    "version": 3
   },
   "file_extension": ".py",
   "mimetype": "text/x-python",
   "name": "python",
   "nbconvert_exporter": "python",
   "pygments_lexer": "ipython3",
   "version": "3.6.3"
  }
 },
 "nbformat": 4,
 "nbformat_minor": 2
}
